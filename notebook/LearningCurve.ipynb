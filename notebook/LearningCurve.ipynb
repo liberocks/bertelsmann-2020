{
  "nbformat": 4,
  "nbformat_minor": 0,
  "metadata": {
    "colab": {
      "name": "LearningCurve.ipynb",
      "provenance": [],
      "authorship_tag": "ABX9TyPi6SUJMsSuxh7kPgIu0jkz",
      "include_colab_link": true
    },
    "kernelspec": {
      "name": "python3",
      "display_name": "Python 3"
    }
  },
  "cells": [
    {
      "cell_type": "markdown",
      "metadata": {
        "id": "view-in-github",
        "colab_type": "text"
      },
      "source": [
        "<a href=\"https://colab.research.google.com/github/linerocks/bertelsmann-2020/blob/master/notebook/LearningCurve.ipynb\" target=\"_parent\"><img src=\"https://colab.research.google.com/assets/colab-badge.svg\" alt=\"Open In Colab\"/></a>"
      ]
    },
    {
      "cell_type": "markdown",
      "metadata": {
        "id": "SWvyWpI_WkQY"
      },
      "source": [
        "# Observing Learning Curve Changes\n",
        "\n",
        "[original source](https://github.com/GoogleCloudPlatform/training-data-analyst/blob/master/learning_rate.ipynb)\n",
        "\n",
        "A learning curve is a plot of model learning performance over experience or time.\n",
        "\n",
        "Learning curves are a widely used diagnostic tool in machine learning for algorithms that learn from a training dataset incrementally. The model can be evaluated on the training dataset and on a hold out validation dataset after each update during training and plots of the measured performance can created to show learning curves.\n",
        "\n",
        "Reviewing learning curves of models during training can be used to diagnose problems with learning, such as an underfit or overfit model, as well as whether the training and validation datasets are suitably representative."
      ]
    },
    {
      "cell_type": "code",
      "metadata": {
        "colab": {
          "base_uri": "https://localhost:8080/"
        },
        "id": "wIa39CP5WX2u",
        "outputId": "def712ea-a060-4673-9db8-79053b04a83f"
      },
      "source": [
        "import os\n",
        "import tensorflow.keras\n",
        "\n",
        "import matplotlib.pyplot as plt\n",
        "import pandas as pd\n",
        "import tensorflow as tf\n",
        "\n",
        "from tensorflow import feature_column as fc\n",
        "from tensorflow.keras import layers\n",
        "from tensorflow import keras\n",
        "from tensorflow.keras import layers\n",
        "from keras.optimizers import Adam\n",
        "#from keras.optimizers import SGD\n",
        "\n",
        "from sklearn.model_selection import train_test_split\n",
        "from keras.utils import plot_model\n",
        "\n",
        "print(\"TensorFlow version: \",tf.version.VERSION)"
      ],
      "execution_count": 1,
      "outputs": [
        {
          "output_type": "stream",
          "text": [
            "TensorFlow version:  2.4.0\n"
          ],
          "name": "stdout"
        }
      ]
    },
    {
      "cell_type": "code",
      "metadata": {
        "colab": {
          "base_uri": "https://localhost:8080/"
        },
        "id": "vv1d8W5RW0mJ",
        "outputId": "cf789b33-4793-43a3-ca28-662a2420f109"
      },
      "source": [
        "!gsutil cp gs://cloud-training-demos/feat_eng/housing/housing_pre-proc.csv ."
      ],
      "execution_count": 2,
      "outputs": [
        {
          "output_type": "stream",
          "text": [
            "Copying gs://cloud-training-demos/feat_eng/housing/housing_pre-proc.csv...\n",
            "/ [0 files][    0.0 B/  1.4 MiB]                                                \r/ [1 files][  1.4 MiB/  1.4 MiB]                                                \r\n",
            "Operation completed over 1 objects/1.4 MiB.                                      \n"
          ],
          "name": "stdout"
        }
      ]
    },
    {
      "cell_type": "code",
      "metadata": {
        "colab": {
          "base_uri": "https://localhost:8080/",
          "height": 204
        },
        "id": "DaYCLAn9W9pt",
        "outputId": "e2b60a9b-177a-49f1-c9c5-d897bc94c5f0"
      },
      "source": [
        "housing_df = pd.read_csv('housing_pre-proc.csv', error_bad_lines=False)\n",
        "housing_df.head()"
      ],
      "execution_count": 3,
      "outputs": [
        {
          "output_type": "execute_result",
          "data": {
            "text/html": [
              "<div>\n",
              "<style scoped>\n",
              "    .dataframe tbody tr th:only-of-type {\n",
              "        vertical-align: middle;\n",
              "    }\n",
              "\n",
              "    .dataframe tbody tr th {\n",
              "        vertical-align: top;\n",
              "    }\n",
              "\n",
              "    .dataframe thead th {\n",
              "        text-align: right;\n",
              "    }\n",
              "</style>\n",
              "<table border=\"1\" class=\"dataframe\">\n",
              "  <thead>\n",
              "    <tr style=\"text-align: right;\">\n",
              "      <th></th>\n",
              "      <th>longitude</th>\n",
              "      <th>latitude</th>\n",
              "      <th>housing_median_age</th>\n",
              "      <th>total_rooms</th>\n",
              "      <th>total_bedrooms</th>\n",
              "      <th>population</th>\n",
              "      <th>households</th>\n",
              "      <th>median_income</th>\n",
              "      <th>median_house_value</th>\n",
              "      <th>ocean_proximity</th>\n",
              "    </tr>\n",
              "  </thead>\n",
              "  <tbody>\n",
              "    <tr>\n",
              "      <th>0</th>\n",
              "      <td>-122.23</td>\n",
              "      <td>37.88</td>\n",
              "      <td>41.0</td>\n",
              "      <td>880.0</td>\n",
              "      <td>129.0</td>\n",
              "      <td>322.0</td>\n",
              "      <td>126.0</td>\n",
              "      <td>8.3252</td>\n",
              "      <td>452600.0</td>\n",
              "      <td>NEAR BAY</td>\n",
              "    </tr>\n",
              "    <tr>\n",
              "      <th>1</th>\n",
              "      <td>-122.22</td>\n",
              "      <td>37.86</td>\n",
              "      <td>21.0</td>\n",
              "      <td>7099.0</td>\n",
              "      <td>1106.0</td>\n",
              "      <td>2401.0</td>\n",
              "      <td>1138.0</td>\n",
              "      <td>8.3014</td>\n",
              "      <td>358500.0</td>\n",
              "      <td>NEAR BAY</td>\n",
              "    </tr>\n",
              "    <tr>\n",
              "      <th>2</th>\n",
              "      <td>-122.24</td>\n",
              "      <td>37.85</td>\n",
              "      <td>52.0</td>\n",
              "      <td>1467.0</td>\n",
              "      <td>190.0</td>\n",
              "      <td>496.0</td>\n",
              "      <td>177.0</td>\n",
              "      <td>7.2574</td>\n",
              "      <td>352100.0</td>\n",
              "      <td>NEAR BAY</td>\n",
              "    </tr>\n",
              "    <tr>\n",
              "      <th>3</th>\n",
              "      <td>-122.25</td>\n",
              "      <td>37.85</td>\n",
              "      <td>52.0</td>\n",
              "      <td>1274.0</td>\n",
              "      <td>235.0</td>\n",
              "      <td>558.0</td>\n",
              "      <td>219.0</td>\n",
              "      <td>5.6431</td>\n",
              "      <td>341300.0</td>\n",
              "      <td>NEAR BAY</td>\n",
              "    </tr>\n",
              "    <tr>\n",
              "      <th>4</th>\n",
              "      <td>-122.25</td>\n",
              "      <td>37.85</td>\n",
              "      <td>52.0</td>\n",
              "      <td>1627.0</td>\n",
              "      <td>280.0</td>\n",
              "      <td>565.0</td>\n",
              "      <td>259.0</td>\n",
              "      <td>3.8462</td>\n",
              "      <td>342200.0</td>\n",
              "      <td>NEAR BAY</td>\n",
              "    </tr>\n",
              "  </tbody>\n",
              "</table>\n",
              "</div>"
            ],
            "text/plain": [
              "   longitude  latitude  ...  median_house_value  ocean_proximity\n",
              "0    -122.23     37.88  ...            452600.0         NEAR BAY\n",
              "1    -122.22     37.86  ...            358500.0         NEAR BAY\n",
              "2    -122.24     37.85  ...            352100.0         NEAR BAY\n",
              "3    -122.25     37.85  ...            341300.0         NEAR BAY\n",
              "4    -122.25     37.85  ...            342200.0         NEAR BAY\n",
              "\n",
              "[5 rows x 10 columns]"
            ]
          },
          "metadata": {
            "tags": []
          },
          "execution_count": 3
        }
      ]
    },
    {
      "cell_type": "code",
      "metadata": {
        "colab": {
          "base_uri": "https://localhost:8080/"
        },
        "id": "jZDpE5c2XJcu",
        "outputId": "4ca667b7-7940-4efe-8097-82e0299c5115"
      },
      "source": [
        "train, test = train_test_split(housing_df, test_size=0.2)\n",
        "train, val = train_test_split(train, test_size=0.2)\n",
        "\n",
        "print(len(train), 'train examples')\n",
        "print(len(val), 'validation examples')\n",
        "print(len(test), 'test examples')\n",
        "\n",
        "train.to_csv('./housing-train.csv', encoding='utf-8', index=False)\n",
        "val.to_csv('./housing-val.csv', encoding='utf-8', index=False)\n",
        "test.to_csv('./housing-test.csv', encoding='utf-8', index=False)"
      ],
      "execution_count": 4,
      "outputs": [
        {
          "output_type": "stream",
          "text": [
            "13076 train examples\n",
            "3270 validation examples\n",
            "4087 test examples\n"
          ],
          "name": "stdout"
        }
      ]
    },
    {
      "cell_type": "code",
      "metadata": {
        "id": "EvnuEFfNXOfn"
      },
      "source": [
        "# A utility method to create a tf.data dataset from a Pandas Dataframe\n",
        "\n",
        "def df_to_dataset(dataframe, shuffle=True, batch_size=32):\n",
        "    dataframe = dataframe.copy()\n",
        "    labels = dataframe.pop('median_house_value')\n",
        "    ds = tf.data.Dataset.from_tensor_slices((dict(dataframe), labels))\n",
        "    if shuffle:\n",
        "        ds = ds.shuffle(buffer_size=len(dataframe))\n",
        "    ds = ds.batch(batch_size)\n",
        "    return ds\n",
        "\n",
        "# Next we initialize the training and validation datasets.\n",
        "batch_size = 32\n",
        "train_ds = df_to_dataset(train)\n",
        "val_ds = df_to_dataset(val, shuffle=False, batch_size=batch_size)\n",
        "\n",
        "# Input Pipeline\n",
        "numeric_cols = ['longitude', 'latitude', 'housing_median_age', 'total_rooms',\n",
        "                'total_bedrooms', 'population', 'households', 'median_income']\n",
        "\n",
        "# Next, we scale the numerical feature columns that we assigned to the variable \"numeric cols\".\n",
        "# Scalar def get_scal(feature):\n",
        "def get_scal(feature):\n",
        "    def minmax(x):\n",
        "        mini = train[feature].min()\n",
        "        maxi = train[feature].max()\n",
        "        return (x - mini)/(maxi-mini)\n",
        "        return(minmax)\n",
        "    \n",
        "feature_columns = []\n",
        "for header in numeric_cols:\n",
        "    scal_input_fn = get_scal(header)\n",
        "    feature_columns.append(fc.numeric_column(header,\n",
        "                                             normalizer_fn=scal_input_fn))"
      ],
      "execution_count": 5,
      "outputs": []
    },
    {
      "cell_type": "markdown",
      "metadata": {
        "id": "GOXC_SepXZPM"
      },
      "source": [
        "## Model 1 - hard cording the learning rate to .5"
      ]
    },
    {
      "cell_type": "code",
      "metadata": {
        "colab": {
          "base_uri": "https://localhost:8080/"
        },
        "id": "nF8fECtEXUO5",
        "outputId": "047e14d6-bf84-4ce0-c63a-f05d58f00880"
      },
      "source": [
        "# Model create\n",
        "\n",
        "feature_layer = tf.keras.layers.DenseFeatures(feature_columns, dtype='float64')\n",
        "\n",
        "model = tf.keras.Sequential([\n",
        "  feature_layer,\n",
        "  layers.Dense(12, input_dim=8, activation='relu'),\n",
        "  layers.Dense(8, activation='relu'),\n",
        "  layers.Dense(1, activation='linear',  name='median_house_value')\n",
        "])\n",
        "\n",
        "# Model compile\n",
        "opt = keras.optimizers.Adam(learning_rate=.5)\n",
        "model.compile(optimizer=opt,\n",
        "              loss='mse',\n",
        "              metrics=['mse'])\n",
        "\n",
        "# Model Fit\n",
        "history = model.fit(train_ds,\n",
        "                    validation_data=val_ds,\n",
        "                    epochs=32)"
      ],
      "execution_count": 6,
      "outputs": [
        {
          "output_type": "stream",
          "text": [
            "Epoch 1/32\n",
            "WARNING:tensorflow:Layers in a Sequential model should only have a single input tensor, but we receive a <class 'dict'> input: {'longitude': <tf.Tensor 'ExpandDims_3:0' shape=(None, 1) dtype=float64>, 'latitude': <tf.Tensor 'ExpandDims_2:0' shape=(None, 1) dtype=float64>, 'housing_median_age': <tf.Tensor 'ExpandDims_1:0' shape=(None, 1) dtype=float64>, 'total_rooms': <tf.Tensor 'ExpandDims_8:0' shape=(None, 1) dtype=float64>, 'total_bedrooms': <tf.Tensor 'ExpandDims_7:0' shape=(None, 1) dtype=float64>, 'population': <tf.Tensor 'ExpandDims_6:0' shape=(None, 1) dtype=float64>, 'households': <tf.Tensor 'ExpandDims:0' shape=(None, 1) dtype=float64>, 'median_income': <tf.Tensor 'ExpandDims_4:0' shape=(None, 1) dtype=float64>, 'ocean_proximity': <tf.Tensor 'ExpandDims_5:0' shape=(None, 1) dtype=string>}\n",
            "Consider rewriting this model with the Functional API.\n",
            "WARNING:tensorflow:Layers in a Sequential model should only have a single input tensor, but we receive a <class 'dict'> input: {'longitude': <tf.Tensor 'ExpandDims_3:0' shape=(None, 1) dtype=float64>, 'latitude': <tf.Tensor 'ExpandDims_2:0' shape=(None, 1) dtype=float64>, 'housing_median_age': <tf.Tensor 'ExpandDims_1:0' shape=(None, 1) dtype=float64>, 'total_rooms': <tf.Tensor 'ExpandDims_8:0' shape=(None, 1) dtype=float64>, 'total_bedrooms': <tf.Tensor 'ExpandDims_7:0' shape=(None, 1) dtype=float64>, 'population': <tf.Tensor 'ExpandDims_6:0' shape=(None, 1) dtype=float64>, 'households': <tf.Tensor 'ExpandDims:0' shape=(None, 1) dtype=float64>, 'median_income': <tf.Tensor 'ExpandDims_4:0' shape=(None, 1) dtype=float64>, 'ocean_proximity': <tf.Tensor 'ExpandDims_5:0' shape=(None, 1) dtype=string>}\n",
            "Consider rewriting this model with the Functional API.\n",
            "405/409 [============================>.] - ETA: 0s - loss: 24476531514.7852 - mse: 24476531514.7852WARNING:tensorflow:Layers in a Sequential model should only have a single input tensor, but we receive a <class 'dict'> input: {'longitude': <tf.Tensor 'ExpandDims_3:0' shape=(None, 1) dtype=float64>, 'latitude': <tf.Tensor 'ExpandDims_2:0' shape=(None, 1) dtype=float64>, 'housing_median_age': <tf.Tensor 'ExpandDims_1:0' shape=(None, 1) dtype=float64>, 'total_rooms': <tf.Tensor 'ExpandDims_8:0' shape=(None, 1) dtype=float64>, 'total_bedrooms': <tf.Tensor 'ExpandDims_7:0' shape=(None, 1) dtype=float64>, 'population': <tf.Tensor 'ExpandDims_6:0' shape=(None, 1) dtype=float64>, 'households': <tf.Tensor 'ExpandDims:0' shape=(None, 1) dtype=float64>, 'median_income': <tf.Tensor 'ExpandDims_4:0' shape=(None, 1) dtype=float64>, 'ocean_proximity': <tf.Tensor 'ExpandDims_5:0' shape=(None, 1) dtype=string>}\n",
            "Consider rewriting this model with the Functional API.\n",
            "409/409 [==============================] - 2s 3ms/step - loss: 24375775047.1805 - mse: 24375775047.1805 - val_loss: 10196367360.0000 - val_mse: 10196367360.0000\n",
            "Epoch 2/32\n",
            "409/409 [==============================] - 1s 2ms/step - loss: 9828093032.8976 - mse: 9828093032.8976 - val_loss: 9659292672.0000 - val_mse: 9659292672.0000\n",
            "Epoch 3/32\n",
            "409/409 [==============================] - 1s 2ms/step - loss: 10452370991.4537 - mse: 10452370991.4537 - val_loss: 7844350976.0000 - val_mse: 7844350976.0000\n",
            "Epoch 4/32\n",
            "409/409 [==============================] - 1s 2ms/step - loss: 7666728585.3659 - mse: 7666728585.3659 - val_loss: 6918631424.0000 - val_mse: 6918631424.0000\n",
            "Epoch 5/32\n",
            "409/409 [==============================] - 1s 2ms/step - loss: 8135304817.6390 - mse: 8135304817.6390 - val_loss: 7173508608.0000 - val_mse: 7173508608.0000\n",
            "Epoch 6/32\n",
            "409/409 [==============================] - 1s 2ms/step - loss: 8089896530.4195 - mse: 8089896530.4195 - val_loss: 6358996992.0000 - val_mse: 6358996992.0000\n",
            "Epoch 7/32\n",
            "409/409 [==============================] - 1s 2ms/step - loss: 7257844494.9854 - mse: 7257844494.9854 - val_loss: 8219427328.0000 - val_mse: 8219427328.0000\n",
            "Epoch 8/32\n",
            "409/409 [==============================] - 1s 2ms/step - loss: 7168298619.6293 - mse: 7168298619.6293 - val_loss: 5751934976.0000 - val_mse: 5751934976.0000\n",
            "Epoch 9/32\n",
            "409/409 [==============================] - 1s 2ms/step - loss: 6557261310.7512 - mse: 6557261310.7512 - val_loss: 5552582144.0000 - val_mse: 5552582144.0000\n",
            "Epoch 10/32\n",
            "409/409 [==============================] - 1s 2ms/step - loss: 6511203394.1854 - mse: 6511203394.1854 - val_loss: 5591250944.0000 - val_mse: 5591250944.0000\n",
            "Epoch 11/32\n",
            "409/409 [==============================] - 1s 2ms/step - loss: 7225307277.1122 - mse: 7225307277.1122 - val_loss: 6469538816.0000 - val_mse: 6469538816.0000\n",
            "Epoch 12/32\n",
            "409/409 [==============================] - 1s 2ms/step - loss: 7360153470.1268 - mse: 7360153470.1268 - val_loss: 6078990336.0000 - val_mse: 6078990336.0000\n",
            "Epoch 13/32\n",
            "409/409 [==============================] - 1s 2ms/step - loss: 7658063512.3512 - mse: 7658063512.3512 - val_loss: 6104321536.0000 - val_mse: 6104321536.0000\n",
            "Epoch 14/32\n",
            "409/409 [==============================] - 1s 2ms/step - loss: 6717348946.4195 - mse: 6717348946.4195 - val_loss: 6188146688.0000 - val_mse: 6188146688.0000\n",
            "Epoch 15/32\n",
            "409/409 [==============================] - 1s 2ms/step - loss: 7706548010.4585 - mse: 7706548010.4585 - val_loss: 6172137472.0000 - val_mse: 6172137472.0000\n",
            "Epoch 16/32\n",
            "409/409 [==============================] - 1s 2ms/step - loss: 6435346133.5415 - mse: 6435346133.5415 - val_loss: 9010438144.0000 - val_mse: 9010438144.0000\n",
            "Epoch 17/32\n",
            "409/409 [==============================] - 1s 2ms/step - loss: 7378241968.0780 - mse: 7378241968.0780 - val_loss: 6659475456.0000 - val_mse: 6659475456.0000\n",
            "Epoch 18/32\n",
            "409/409 [==============================] - 1s 2ms/step - loss: 6721628203.7073 - mse: 6721628203.7073 - val_loss: 5711867392.0000 - val_mse: 5711867392.0000\n",
            "Epoch 19/32\n",
            "409/409 [==============================] - 1s 2ms/step - loss: 6457647411.2000 - mse: 6457647411.2000 - val_loss: 6288302080.0000 - val_mse: 6288302080.0000\n",
            "Epoch 20/32\n",
            "409/409 [==============================] - 1s 2ms/step - loss: 6462690498.8098 - mse: 6462690498.8098 - val_loss: 5422564352.0000 - val_mse: 5422564352.0000\n",
            "Epoch 21/32\n",
            "409/409 [==============================] - 1s 2ms/step - loss: 6188257059.5902 - mse: 6188257059.5902 - val_loss: 5930477568.0000 - val_mse: 5930477568.0000\n",
            "Epoch 22/32\n",
            "409/409 [==============================] - 1s 2ms/step - loss: 6449930486.6341 - mse: 6449930486.6341 - val_loss: 5868459008.0000 - val_mse: 5868459008.0000\n",
            "Epoch 23/32\n",
            "409/409 [==============================] - 1s 2ms/step - loss: 6702806600.4293 - mse: 6702806600.4293 - val_loss: 6646167040.0000 - val_mse: 6646167040.0000\n",
            "Epoch 24/32\n",
            "409/409 [==============================] - 1s 2ms/step - loss: 6556001793.2488 - mse: 6556001793.2488 - val_loss: 6259155968.0000 - val_mse: 6259155968.0000\n",
            "Epoch 25/32\n",
            "409/409 [==============================] - 1s 2ms/step - loss: 6418482136.0390 - mse: 6418482136.0390 - val_loss: 5421859840.0000 - val_mse: 5421859840.0000\n",
            "Epoch 26/32\n",
            "409/409 [==============================] - 1s 2ms/step - loss: 6557924420.6829 - mse: 6557924420.6829 - val_loss: 8010994688.0000 - val_mse: 8010994688.0000\n",
            "Epoch 27/32\n",
            "409/409 [==============================] - 1s 2ms/step - loss: 6743934359.7268 - mse: 6743934359.7268 - val_loss: 7346661376.0000 - val_mse: 7346661376.0000\n",
            "Epoch 28/32\n",
            "409/409 [==============================] - 1s 2ms/step - loss: 6441375293.1902 - mse: 6441375293.1902 - val_loss: 5597705216.0000 - val_mse: 5597705216.0000\n",
            "Epoch 29/32\n",
            "409/409 [==============================] - 1s 2ms/step - loss: 6338430136.8195 - mse: 6338430136.8195 - val_loss: 6060911104.0000 - val_mse: 6060911104.0000\n",
            "Epoch 30/32\n",
            "409/409 [==============================] - 1s 2ms/step - loss: 6440158545.1707 - mse: 6440158545.1707 - val_loss: 6091827200.0000 - val_mse: 6091827200.0000\n",
            "Epoch 31/32\n",
            "409/409 [==============================] - 1s 2ms/step - loss: 6161595560.5854 - mse: 6161595560.5854 - val_loss: 5850439168.0000 - val_mse: 5850439168.0000\n",
            "Epoch 32/32\n",
            "409/409 [==============================] - 1s 2ms/step - loss: 6386951460.2146 - mse: 6386951460.2146 - val_loss: 5800702464.0000 - val_mse: 5800702464.0000\n"
          ],
          "name": "stdout"
        }
      ]
    },
    {
      "cell_type": "code",
      "metadata": {
        "colab": {
          "base_uri": "https://localhost:8080/",
          "height": 350
        },
        "id": "pHzeVucuXjsF",
        "outputId": "96f6b495-b76b-4e53-f48b-9bad76d007c0"
      },
      "source": [
        "def plot_curves(history, metrics):\n",
        "    nrows = 1\n",
        "    ncols = 2\n",
        "    fig = plt.figure(figsize=(10, 5))\n",
        "\n",
        "    for idx, key in enumerate(metrics):  \n",
        "        ax = fig.add_subplot(nrows, ncols, idx+1)\n",
        "        plt.plot(history.history[key])\n",
        "        plt.plot(history.history['val_{}'.format(key)])\n",
        "        plt.title('model {}'.format(key))\n",
        "        plt.ylabel(key)\n",
        "        plt.xlabel('epoch')\n",
        "        plt.legend(['train', 'validation'], loc='upper left'); \n",
        "plot_curves(history, ['loss', 'mse'])\n",
        "\n",
        "# Print .5"
      ],
      "execution_count": 7,
      "outputs": [
        {
          "output_type": "display_data",
          "data": {
            "image/png": "[encoded data removed]",
            "text/plain": [
              "<Figure size 720x360 with 2 Axes>"
            ]
          },
          "metadata": {
            "tags": [],
            "needs_background": "light"
          }
        }
      ]
    },
    {
      "cell_type": "markdown",
      "metadata": {
        "id": "22-vVVgDXojD"
      },
      "source": [
        "## Model 2 - hard cording the learning rate to .1"
      ]
    },
    {
      "cell_type": "code",
      "metadata": {
        "colab": {
          "base_uri": "https://localhost:8080/"
        },
        "id": "9C-vf5JHXnGU",
        "outputId": "fa5f7a94-85fa-4722-dcbe-870bdc4897ed"
      },
      "source": [
        "# Model create\n",
        "feature_layer = tf.keras.layers.DenseFeatures(feature_columns, dtype='float64')\n",
        "\n",
        "model = tf.keras.Sequential([\n",
        "  feature_layer,\n",
        "  layers.Dense(12, input_dim=8, activation='relu'),\n",
        "  layers.Dense(8, activation='relu'),\n",
        "  layers.Dense(1, activation='linear',  name='median_house_value')\n",
        "])\n",
        "\n",
        "# Model compile\n",
        "model.compile(optimizer=keras.optimizers.Adam(learning_rate=0.1),\n",
        "              loss='mse',\n",
        "              metrics=['mse'])\n",
        "\n",
        "# Model Fit\n",
        "history = model.fit(train_ds,\n",
        "                    validation_data=val_ds,\n",
        "                    epochs=32)"
      ],
      "execution_count": 8,
      "outputs": [
        {
          "output_type": "stream",
          "text": [
            "Epoch 1/32\n",
            "WARNING:tensorflow:Layers in a Sequential model should only have a single input tensor, but we receive a <class 'dict'> input: {'longitude': <tf.Tensor 'ExpandDims_3:0' shape=(None, 1) dtype=float64>, 'latitude': <tf.Tensor 'ExpandDims_2:0' shape=(None, 1) dtype=float64>, 'housing_median_age': <tf.Tensor 'ExpandDims_1:0' shape=(None, 1) dtype=float64>, 'total_rooms': <tf.Tensor 'ExpandDims_8:0' shape=(None, 1) dtype=float64>, 'total_bedrooms': <tf.Tensor 'ExpandDims_7:0' shape=(None, 1) dtype=float64>, 'population': <tf.Tensor 'ExpandDims_6:0' shape=(None, 1) dtype=float64>, 'households': <tf.Tensor 'ExpandDims:0' shape=(None, 1) dtype=float64>, 'median_income': <tf.Tensor 'ExpandDims_4:0' shape=(None, 1) dtype=float64>, 'ocean_proximity': <tf.Tensor 'ExpandDims_5:0' shape=(None, 1) dtype=string>}\n",
            "Consider rewriting this model with the Functional API.\n",
            "WARNING:tensorflow:Layers in a Sequential model should only have a single input tensor, but we receive a <class 'dict'> input: {'longitude': <tf.Tensor 'ExpandDims_3:0' shape=(None, 1) dtype=float64>, 'latitude': <tf.Tensor 'ExpandDims_2:0' shape=(None, 1) dtype=float64>, 'housing_median_age': <tf.Tensor 'ExpandDims_1:0' shape=(None, 1) dtype=float64>, 'total_rooms': <tf.Tensor 'ExpandDims_8:0' shape=(None, 1) dtype=float64>, 'total_bedrooms': <tf.Tensor 'ExpandDims_7:0' shape=(None, 1) dtype=float64>, 'population': <tf.Tensor 'ExpandDims_6:0' shape=(None, 1) dtype=float64>, 'households': <tf.Tensor 'ExpandDims:0' shape=(None, 1) dtype=float64>, 'median_income': <tf.Tensor 'ExpandDims_4:0' shape=(None, 1) dtype=float64>, 'ocean_proximity': <tf.Tensor 'ExpandDims_5:0' shape=(None, 1) dtype=string>}\n",
            "Consider rewriting this model with the Functional API.\n",
            "382/409 [===========================>..] - ETA: 0s - loss: 23644667606.4503 - mse: 23644667606.4503WARNING:tensorflow:Layers in a Sequential model should only have a single input tensor, but we receive a <class 'dict'> input: {'longitude': <tf.Tensor 'ExpandDims_3:0' shape=(None, 1) dtype=float64>, 'latitude': <tf.Tensor 'ExpandDims_2:0' shape=(None, 1) dtype=float64>, 'housing_median_age': <tf.Tensor 'ExpandDims_1:0' shape=(None, 1) dtype=float64>, 'total_rooms': <tf.Tensor 'ExpandDims_8:0' shape=(None, 1) dtype=float64>, 'total_bedrooms': <tf.Tensor 'ExpandDims_7:0' shape=(None, 1) dtype=float64>, 'population': <tf.Tensor 'ExpandDims_6:0' shape=(None, 1) dtype=float64>, 'households': <tf.Tensor 'ExpandDims:0' shape=(None, 1) dtype=float64>, 'median_income': <tf.Tensor 'ExpandDims_4:0' shape=(None, 1) dtype=float64>, 'ocean_proximity': <tf.Tensor 'ExpandDims_5:0' shape=(None, 1) dtype=string>}\n",
            "Consider rewriting this model with the Functional API.\n",
            "409/409 [==============================] - 2s 2ms/step - loss: 23128049097.0537 - mse: 23128049097.0537 - val_loss: 10304264192.0000 - val_mse: 10304264192.0000\n",
            "Epoch 2/32\n",
            "409/409 [==============================] - 1s 2ms/step - loss: 10543638540.4878 - mse: 10543638540.4878 - val_loss: 11210750976.0000 - val_mse: 11210750976.0000\n",
            "Epoch 3/32\n",
            "409/409 [==============================] - 1s 2ms/step - loss: 9494168608.4683 - mse: 9494168608.4683 - val_loss: 8593343488.0000 - val_mse: 8593343488.0000\n",
            "Epoch 4/32\n",
            "409/409 [==============================] - 1s 2ms/step - loss: 8404917417.8341 - mse: 8404917417.8341 - val_loss: 7293613056.0000 - val_mse: 7293613056.0000\n",
            "Epoch 5/32\n",
            "409/409 [==============================] - 1s 2ms/step - loss: 8372001172.6049 - mse: 8372001172.6049 - val_loss: 7618549760.0000 - val_mse: 7618549760.0000\n",
            "Epoch 6/32\n",
            "409/409 [==============================] - 1s 2ms/step - loss: 8140717558.0098 - mse: 8140717558.0098 - val_loss: 7459620352.0000 - val_mse: 7459620352.0000\n",
            "Epoch 7/32\n",
            "409/409 [==============================] - 1s 2ms/step - loss: 7354912207.2976 - mse: 7354912207.2976 - val_loss: 6453925888.0000 - val_mse: 6453925888.0000\n",
            "Epoch 8/32\n",
            "409/409 [==============================] - 1s 2ms/step - loss: 6576516786.5756 - mse: 6576516786.5756 - val_loss: 6049616384.0000 - val_mse: 6049616384.0000\n",
            "Epoch 9/32\n",
            "409/409 [==============================] - 1s 2ms/step - loss: 6540463975.6488 - mse: 6540463975.6488 - val_loss: 5490611200.0000 - val_mse: 5490611200.0000\n",
            "Epoch 10/32\n",
            "409/409 [==============================] - 1s 2ms/step - loss: 6555326006.9463 - mse: 6555326006.9463 - val_loss: 5618079744.0000 - val_mse: 5618079744.0000\n",
            "Epoch 11/32\n",
            "409/409 [==============================] - 1s 2ms/step - loss: 6440747749.7756 - mse: 6440747749.7756 - val_loss: 6161940992.0000 - val_mse: 6161940992.0000\n",
            "Epoch 12/32\n",
            "409/409 [==============================] - 1s 2ms/step - loss: 6584725481.5220 - mse: 6584725481.5220 - val_loss: 5432051200.0000 - val_mse: 5432051200.0000\n",
            "Epoch 13/32\n",
            "409/409 [==============================] - 1s 2ms/step - loss: 6169273954.0293 - mse: 6169273954.0293 - val_loss: 6605516800.0000 - val_mse: 6605516800.0000\n",
            "Epoch 14/32\n",
            "409/409 [==============================] - 1s 2ms/step - loss: 5995053036.0195 - mse: 5995053036.0195 - val_loss: 5268464640.0000 - val_mse: 5268464640.0000\n",
            "Epoch 15/32\n",
            "409/409 [==============================] - 1s 2ms/step - loss: 5764045742.8293 - mse: 5764045742.8293 - val_loss: 5434494464.0000 - val_mse: 5434494464.0000\n",
            "Epoch 16/32\n",
            "409/409 [==============================] - 1s 2ms/step - loss: 5897735399.0244 - mse: 5897735399.0244 - val_loss: 7617389056.0000 - val_mse: 7617389056.0000\n",
            "Epoch 17/32\n",
            "409/409 [==============================] - 1s 2ms/step - loss: 5970753479.8049 - mse: 5970753479.8049 - val_loss: 5016783872.0000 - val_mse: 5016783872.0000\n",
            "Epoch 18/32\n",
            "409/409 [==============================] - 1s 2ms/step - loss: 6359345226.9268 - mse: 6359345226.9268 - val_loss: 6011740672.0000 - val_mse: 6011740672.0000\n",
            "Epoch 19/32\n",
            "409/409 [==============================] - 1s 2ms/step - loss: 5953423673.4439 - mse: 5953423673.4439 - val_loss: 5495914496.0000 - val_mse: 5495914496.0000\n",
            "Epoch 20/32\n",
            "409/409 [==============================] - 1s 2ms/step - loss: 5537545984.0000 - mse: 5537545984.0000 - val_loss: 5174070784.0000 - val_mse: 5174070784.0000\n",
            "Epoch 21/32\n",
            "409/409 [==============================] - 1s 2ms/step - loss: 5619670350.6732 - mse: 5619670350.6732 - val_loss: 7239944192.0000 - val_mse: 7239944192.0000\n",
            "Epoch 22/32\n",
            "409/409 [==============================] - 1s 2ms/step - loss: 5612633613.7366 - mse: 5612633613.7366 - val_loss: 5190899200.0000 - val_mse: 5190899200.0000\n",
            "Epoch 23/32\n",
            "409/409 [==============================] - 1s 2ms/step - loss: 5698323391.6878 - mse: 5698323391.6878 - val_loss: 5191151104.0000 - val_mse: 5191151104.0000\n",
            "Epoch 24/32\n",
            "409/409 [==============================] - 1s 2ms/step - loss: 5725119054.6732 - mse: 5725119054.6732 - val_loss: 4960326144.0000 - val_mse: 4960326144.0000\n",
            "Epoch 25/32\n",
            "409/409 [==============================] - 1s 2ms/step - loss: 5599460852.1366 - mse: 5599460852.1366 - val_loss: 5360808448.0000 - val_mse: 5360808448.0000\n",
            "Epoch 26/32\n",
            "409/409 [==============================] - 1s 2ms/step - loss: 5757231200.7805 - mse: 5757231200.7805 - val_loss: 6703769600.0000 - val_mse: 6703769600.0000\n",
            "Epoch 27/32\n",
            "409/409 [==============================] - 1s 2ms/step - loss: 5749298451.9805 - mse: 5749298451.9805 - val_loss: 5804526592.0000 - val_mse: 5804526592.0000\n",
            "Epoch 28/32\n",
            "409/409 [==============================] - 1s 2ms/step - loss: 5518988290.4976 - mse: 5518988290.4976 - val_loss: 4983515136.0000 - val_mse: 4983515136.0000\n",
            "Epoch 29/32\n",
            "409/409 [==============================] - 1s 2ms/step - loss: 5574171279.6098 - mse: 5574171279.6098 - val_loss: 6972584448.0000 - val_mse: 6972584448.0000\n",
            "Epoch 30/32\n",
            "409/409 [==============================] - 1s 2ms/step - loss: 5763564166.8683 - mse: 5763564166.8683 - val_loss: 5362107392.0000 - val_mse: 5362107392.0000\n",
            "Epoch 31/32\n",
            "409/409 [==============================] - 1s 2ms/step - loss: 5840363606.1659 - mse: 5840363606.1659 - val_loss: 5072022528.0000 - val_mse: 5072022528.0000\n",
            "Epoch 32/32\n",
            "409/409 [==============================] - 1s 2ms/step - loss: 5464834025.5220 - mse: 5464834025.5220 - val_loss: 4889704448.0000 - val_mse: 4889704448.0000\n"
          ],
          "name": "stdout"
        }
      ]
    },
    {
      "cell_type": "code",
      "metadata": {
        "colab": {
          "base_uri": "https://localhost:8080/",
          "height": 350
        },
        "id": "ljOJL6SAXu2D",
        "outputId": "e02b4e56-a9c6-4846-8c47-cfd382bef1f0"
      },
      "source": [
        "def plot_curves(history, metrics):\n",
        "    nrows = 1\n",
        "    ncols = 2\n",
        "    fig = plt.figure(figsize=(10, 5))\n",
        "\n",
        "    for idx, key in enumerate(metrics):  \n",
        "        ax = fig.add_subplot(nrows, ncols, idx+1)\n",
        "        plt.plot(history.history[key])\n",
        "        plt.plot(history.history['val_{}'.format(key)])\n",
        "        plt.title('model {}'.format(key))\n",
        "        plt.ylabel(key)\n",
        "        plt.xlabel('epoch')\n",
        "        plt.legend(['train', 'validation'], loc='upper left');  \n",
        "plot_curves(history, ['loss', 'mse'])\n",
        "\n",
        "# ME:  Add a print title:  .1"
      ],
      "execution_count": 9,
      "outputs": [
        {
          "output_type": "display_data",
          "data": {
            "image/png": "[encoded data removed]",
            "text/plain": [
              "<Figure size 720x360 with 2 Axes>"
            ]
          },
          "metadata": {
            "tags": [],
            "needs_background": "light"
          }
        }
      ]
    },
    {
      "cell_type": "markdown",
      "metadata": {
        "id": "Ysy6857OX8OY"
      },
      "source": [
        "## Model 3 - hard cording the learning rate to .01"
      ]
    },
    {
      "cell_type": "code",
      "metadata": {
        "colab": {
          "base_uri": "https://localhost:8080/"
        },
        "id": "BjU84ymGXx6o",
        "outputId": "ac2aaf55-2bbc-4ac2-9c42-02b4c7e07ac0"
      },
      "source": [
        "# Model create\n",
        "\n",
        "feature_layer = tf.keras.layers.DenseFeatures(feature_columns, dtype='float64')\n",
        "\n",
        "model = tf.keras.Sequential([\n",
        "  feature_layer,\n",
        "  layers.Dense(12, input_dim=8, activation='relu'),\n",
        "  layers.Dense(8, activation='relu'),\n",
        "  layers.Dense(1, activation='linear',  name='median_house_value')\n",
        "])\n",
        "\n",
        "# Model compile\n",
        "opt = keras.optimizers.Adam(learning_rate=0.01)\n",
        "model.compile(optimizer=opt,\n",
        "              loss='mse',\n",
        "              metrics=['mse'])\n",
        "\n",
        "# Model Fit\n",
        "history = model.fit(train_ds,\n",
        "                    validation_data=val_ds,\n",
        "                    epochs=32)  # Increase Epochs to 32"
      ],
      "execution_count": null,
      "outputs": [
        {
          "output_type": "stream",
          "text": [
            "Epoch 1/32\n",
            "WARNING:tensorflow:Layers in a Sequential model should only have a single input tensor, but we receive a <class 'dict'> input: {'longitude': <tf.Tensor 'ExpandDims_3:0' shape=(None, 1) dtype=float64>, 'latitude': <tf.Tensor 'ExpandDims_2:0' shape=(None, 1) dtype=float64>, 'housing_median_age': <tf.Tensor 'ExpandDims_1:0' shape=(None, 1) dtype=float64>, 'total_rooms': <tf.Tensor 'ExpandDims_8:0' shape=(None, 1) dtype=float64>, 'total_bedrooms': <tf.Tensor 'ExpandDims_7:0' shape=(None, 1) dtype=float64>, 'population': <tf.Tensor 'ExpandDims_6:0' shape=(None, 1) dtype=float64>, 'households': <tf.Tensor 'ExpandDims:0' shape=(None, 1) dtype=float64>, 'median_income': <tf.Tensor 'ExpandDims_4:0' shape=(None, 1) dtype=float64>, 'ocean_proximity': <tf.Tensor 'ExpandDims_5:0' shape=(None, 1) dtype=string>}\n",
            "Consider rewriting this model with the Functional API.\n",
            "WARNING:tensorflow:Layers in a Sequential model should only have a single input tensor, but we receive a <class 'dict'> input: {'longitude': <tf.Tensor 'ExpandDims_3:0' shape=(None, 1) dtype=float64>, 'latitude': <tf.Tensor 'ExpandDims_2:0' shape=(None, 1) dtype=float64>, 'housing_median_age': <tf.Tensor 'ExpandDims_1:0' shape=(None, 1) dtype=float64>, 'total_rooms': <tf.Tensor 'ExpandDims_8:0' shape=(None, 1) dtype=float64>, 'total_bedrooms': <tf.Tensor 'ExpandDims_7:0' shape=(None, 1) dtype=float64>, 'population': <tf.Tensor 'ExpandDims_6:0' shape=(None, 1) dtype=float64>, 'households': <tf.Tensor 'ExpandDims:0' shape=(None, 1) dtype=float64>, 'median_income': <tf.Tensor 'ExpandDims_4:0' shape=(None, 1) dtype=float64>, 'ocean_proximity': <tf.Tensor 'ExpandDims_5:0' shape=(None, 1) dtype=string>}\n",
            "Consider rewriting this model with the Functional API.\n",
            "397/409 [============================>.] - ETA: 0s - loss: 36641408724.7960 - mse: 36641408724.7960WARNING:tensorflow:Layers in a Sequential model should only have a single input tensor, but we receive a <class 'dict'> input: {'longitude': <tf.Tensor 'ExpandDims_3:0' shape=(None, 1) dtype=float64>, 'latitude': <tf.Tensor 'ExpandDims_2:0' shape=(None, 1) dtype=float64>, 'housing_median_age': <tf.Tensor 'ExpandDims_1:0' shape=(None, 1) dtype=float64>, 'total_rooms': <tf.Tensor 'ExpandDims_8:0' shape=(None, 1) dtype=float64>, 'total_bedrooms': <tf.Tensor 'ExpandDims_7:0' shape=(None, 1) dtype=float64>, 'population': <tf.Tensor 'ExpandDims_6:0' shape=(None, 1) dtype=float64>, 'households': <tf.Tensor 'ExpandDims:0' shape=(None, 1) dtype=float64>, 'median_income': <tf.Tensor 'ExpandDims_4:0' shape=(None, 1) dtype=float64>, 'ocean_proximity': <tf.Tensor 'ExpandDims_5:0' shape=(None, 1) dtype=string>}\n",
            "Consider rewriting this model with the Functional API.\n",
            "409/409 [==============================] - 2s 2ms/step - loss: 36381728997.7756 - mse: 36381728997.7756 - val_loss: 17174999040.0000 - val_mse: 17174999040.0000\n",
            "Epoch 2/32\n",
            "409/409 [==============================] - 1s 2ms/step - loss: 15235615958.7902 - mse: 15235615958.7902 - val_loss: 11014551552.0000 - val_mse: 11014551552.0000\n",
            "Epoch 3/32\n",
            "409/409 [==============================] - 1s 2ms/step - loss: 11651118002.5756 - mse: 11651118002.5756 - val_loss: 10557722624.0000 - val_mse: 10557722624.0000\n",
            "Epoch 4/32\n",
            "409/409 [==============================] - 1s 2ms/step - loss: 10877282943.3756 - mse: 10877282943.3756 - val_loss: 10173133824.0000 - val_mse: 10173133824.0000\n",
            "Epoch 5/32\n",
            "409/409 [==============================] - 1s 2ms/step - loss: 10741840376.5073 - mse: 10741840376.5073 - val_loss: 9677564928.0000 - val_mse: 9677564928.0000\n",
            "Epoch 6/32\n",
            "409/409 [==============================] - 1s 2ms/step - loss: 10009576605.3463 - mse: 10009576605.3463 - val_loss: 9256646656.0000 - val_mse: 9256646656.0000\n",
            "Epoch 7/32\n",
            "409/409 [==============================] - 1s 2ms/step - loss: 9751246755.5902 - mse: 9751246760.5854 - val_loss: 8825117696.0000 - val_mse: 8825117696.0000\n",
            "Epoch 8/32\n",
            "409/409 [==============================] - 1s 2ms/step - loss: 9334977208.8195 - mse: 9334977208.8195 - val_loss: 8552117248.0000 - val_mse: 8552117248.0000\n",
            "Epoch 9/32\n",
            "409/409 [==============================] - 1s 2ms/step - loss: 8960856215.1024 - mse: 8960856215.1024 - val_loss: 7980513792.0000 - val_mse: 7980513792.0000\n",
            "Epoch 10/32\n",
            "409/409 [==============================] - 1s 2ms/step - loss: 8225868472.8195 - mse: 8225868472.8195 - val_loss: 7464431104.0000 - val_mse: 7464431104.0000\n",
            "Epoch 11/32\n",
            "409/409 [==============================] - 1s 2ms/step - loss: 7777225161.0537 - mse: 7777225161.0537 - val_loss: 7214778368.0000 - val_mse: 7214778368.0000\n",
            "Epoch 12/32\n",
            "409/409 [==============================] - 1s 3ms/step - loss: 7501791677.8146 - mse: 7501791677.8146 - val_loss: 7112988672.0000 - val_mse: 7112988672.0000\n",
            "Epoch 13/32\n",
            "409/409 [==============================] - 1s 3ms/step - loss: 7152929026.4976 - mse: 7152929026.4976 - val_loss: 7177125376.0000 - val_mse: 7177125376.0000\n",
            "Epoch 14/32\n",
            "409/409 [==============================] - 1s 3ms/step - loss: 7189972029.1902 - mse: 7189972029.1902 - val_loss: 6492252160.0000 - val_mse: 6492252160.0000\n",
            "Epoch 15/32\n",
            "409/409 [==============================] - 1s 3ms/step - loss: 6840523895.8829 - mse: 6840523895.8829 - val_loss: 6328653824.0000 - val_mse: 6328653824.0000\n",
            "Epoch 16/32\n",
            "409/409 [==============================] - 1s 3ms/step - loss: 6947258881.2488 - mse: 6947258881.2488 - val_loss: 6295165952.0000 - val_mse: 6295165952.0000\n",
            "Epoch 17/32\n",
            "409/409 [==============================] - 1s 3ms/step - loss: 6593034562.1854 - mse: 6593034562.1854 - val_loss: 6243611648.0000 - val_mse: 6243611648.0000\n",
            "Epoch 18/32\n",
            "409/409 [==============================] - 1s 3ms/step - loss: 6537083285.2293 - mse: 6537083285.2293 - val_loss: 5911371776.0000 - val_mse: 5911371776.0000\n",
            "Epoch 19/32\n",
            "409/409 [==============================] - 1s 3ms/step - loss: 6481644090.6927 - mse: 6481644090.6927 - val_loss: 5797720576.0000 - val_mse: 5797720576.0000\n",
            "Epoch 20/32\n",
            "409/409 [==============================] - 1s 2ms/step - loss: 6293126994.4195 - mse: 6293126994.4195 - val_loss: 6317738496.0000 - val_mse: 6317738496.0000\n",
            "Epoch 21/32\n",
            "409/409 [==============================] - 1s 2ms/step - loss: 6057942592.9366 - mse: 6057942592.9366 - val_loss: 5531119616.0000 - val_mse: 5531119616.0000\n",
            "Epoch 22/32\n",
            "409/409 [==============================] - 1s 2ms/step - loss: 5853002351.7659 - mse: 5853002351.7659 - val_loss: 5796683776.0000 - val_mse: 5796683776.0000\n",
            "Epoch 23/32\n",
            "409/409 [==============================] - 1s 2ms/step - loss: 6029433279.0634 - mse: 6029433279.0634 - val_loss: 5490871296.0000 - val_mse: 5490871296.0000\n",
            "Epoch 24/32\n",
            "370/409 [==========================>...] - ETA: 0s - loss: 5892771683.6324 - mse: 5892771683.6324"
          ],
          "name": "stdout"
        }
      ]
    },
    {
      "cell_type": "code",
      "metadata": {
        "id": "_O2vj-KAYDeJ"
      },
      "source": [
        "def plot_curves(history, metrics):\n",
        "    nrows = 1\n",
        "    ncols = 2\n",
        "    fig = plt.figure(figsize=(10, 5))\n",
        "\n",
        "    for idx, key in enumerate(metrics):  \n",
        "        ax = fig.add_subplot(nrows, ncols, idx+1)\n",
        "        plt.plot(history.history[key])\n",
        "        plt.plot(history.history['val_{}'.format(key)])\n",
        "        plt.title('model {}'.format(key))\n",
        "        plt.ylabel(key)\n",
        "        plt.xlabel('epoch')\n",
        "        plt.legend(['train', 'validation'], loc='upper left');  \n",
        "plot_curves(history, ['loss', 'mse'])\n",
        "\n",
        "# Print .01 in title"
      ],
      "execution_count": null,
      "outputs": []
    },
    {
      "cell_type": "markdown",
      "metadata": {
        "id": "JDIz05u6YELE"
      },
      "source": [
        "## Model 4 - hard cording the learning rate to .001"
      ]
    },
    {
      "cell_type": "code",
      "metadata": {
        "id": "ZAseNMo2YGrG"
      },
      "source": [
        "# Model create\n",
        "\n",
        "feature_layer = tf.keras.layers.DenseFeatures(feature_columns, dtype='float64')\n",
        "\n",
        "model = tf.keras.Sequential([\n",
        "  feature_layer,\n",
        "  layers.Dense(12, input_dim=8, activation='relu'),\n",
        "  layers.Dense(8, activation='relu'),\n",
        "  layers.Dense(1, activation='linear',  name='median_house_value')\n",
        "])\n",
        "\n",
        "# Model compile\n",
        "opt = keras.optimizers.Adam(learning_rate=0.001)\n",
        "model.compile(optimizer=opt,\n",
        "              loss='mse',\n",
        "              metrics=['mse'])\n",
        "\n",
        "# Model Fit\n",
        "history = model.fit(train_ds,\n",
        "                    validation_data=val_ds,\n",
        "                    epochs=32)  # Increase Epochs to 32"
      ],
      "execution_count": null,
      "outputs": []
    },
    {
      "cell_type": "code",
      "metadata": {
        "id": "q_MwHUf-YJeI"
      },
      "source": [
        "def plot_curves(history, metrics):\n",
        "    nrows = 1\n",
        "    ncols = 2\n",
        "    fig = plt.figure(figsize=(10, 5))\n",
        "\n",
        "    for idx, key in enumerate(metrics):  \n",
        "        ax = fig.add_subplot(nrows, ncols, idx+1)\n",
        "        plt.plot(history.history[key])\n",
        "        plt.plot(history.history['val_{}'.format(key)])\n",
        "        plt.title('model {}'.format(key))\n",
        "        plt.ylabel(key)\n",
        "        plt.xlabel('epoch')\n",
        "        plt.legend(['train', 'validation'], loc='upper left');  \n",
        "        \n",
        "plot_curves(history, ['loss', 'mse'])\n",
        "\n",
        "# Print .001"
      ],
      "execution_count": null,
      "outputs": []
    }
  ]
}